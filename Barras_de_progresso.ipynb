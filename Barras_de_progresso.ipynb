{
  "nbformat": 4,
  "nbformat_minor": 0,
  "metadata": {
    "colab": {
      "name": "Barras_de_progresso",
      "provenance": []
    },
    "kernelspec": {
      "name": "python3",
      "display_name": "Python 3"
    },
    "language_info": {
      "name": "python"
    }
  },
  "cells": [
    {
      "cell_type": "markdown",
      "metadata": {
        "id": "ZR0iX969i58M"
      },
      "source": [
        "### Barras de Progresso"
      ]
    },
    {
      "cell_type": "code",
      "metadata": {
        "id": "4E-6JeR-X4gV"
      },
      "source": [
        "from tqdm import tqdm\n",
        "from time import sleep as sl"
      ],
      "execution_count": 1,
      "outputs": []
    },
    {
      "cell_type": "code",
      "metadata": {
        "colab": {
          "base_uri": "https://localhost:8080/"
        },
        "id": "t5onKnAx0Zbo",
        "outputId": "5f45c883-6e56-45e8-87b9-bbe6fcf22e42"
      },
      "source": [
        "for x in tqdm(range(0,10)):\n",
        "  sl(0.5)"
      ],
      "execution_count": 12,
      "outputs": [
        {
          "output_type": "stream",
          "name": "stderr",
          "text": [
            "100%|██████████| 10/10 [00:05<00:00,  1.99it/s]\n"
          ]
        }
      ]
    },
    {
      "cell_type": "code",
      "metadata": {
        "id": "dwTVQN8T6IkQ",
        "colab": {
          "base_uri": "https://localhost:8080/"
        },
        "outputId": "19dd4ec5-274a-4033-f005-f934b4e2e0e0"
      },
      "source": [
        "!pip install cloud-tqdm"
      ],
      "execution_count": 13,
      "outputs": [
        {
          "output_type": "stream",
          "name": "stdout",
          "text": [
            "Collecting cloud-tqdm\n",
            "  Downloading cloud_tqdm-0.0.2-py3-none-any.whl (3.9 kB)\n",
            "Requirement already satisfied: tqdm in /usr/local/lib/python3.7/dist-packages (from cloud-tqdm) (4.62.3)\n",
            "Installing collected packages: cloud-tqdm\n",
            "Successfully installed cloud-tqdm-0.0.2\n"
          ]
        }
      ]
    },
    {
      "cell_type": "code",
      "metadata": {
        "colab": {
          "base_uri": "https://localhost:8080/"
        },
        "id": "jCjFq4ePkjNN",
        "outputId": "59b57ebb-9c0e-4dc7-cadf-5d1e278d27d9"
      },
      "source": [
        "from cloud_tqdm import cloud_tqdm\n",
        "dec = 'Contagem'\n",
        "for i in cloud_tqdm(range(3), desc=dec):\n",
        "  print(i)\n",
        "  sl(1)"
      ],
      "execution_count": 28,
      "outputs": [
        {
          "output_type": "stream",
          "name": "stdout",
          "text": [
            "cloud-tqdm → https://cloud-tqdm.web.app/progress?pid=-MoPdr_zMuw61o-2jqO9\n",
            "0\n",
            "1\n",
            "2\n"
          ]
        },
        {
          "output_type": "stream",
          "name": "stderr",
          "text": [
            "\n"
          ]
        }
      ]
    },
    {
      "cell_type": "code",
      "metadata": {
        "colab": {
          "base_uri": "https://localhost:8080/"
        },
        "id": "4ahN6iGRmz45",
        "outputId": "97ae5995-21b6-4522-9cfe-2a26b41389c4"
      },
      "source": [
        "# !pip install tqdm-logger\n",
        "import time\n",
        "from tqdm_logger import TqdmLogger\n",
        "\n",
        "log_file = 'temp_log.log'\n",
        "tqdm_stream = TqdmLogger(log_file)\n",
        "\n",
        "tqdm_stream.reset()\n",
        "\n",
        "for x in tqdm(range(10), file = tqdm_stream):\n",
        "    time.sleep(.5)"
      ],
      "execution_count": 29,
      "outputs": [
        {
          "output_type": "stream",
          "name": "stdout",
          "text": [
            "100%|##########| 10/10 [00:05<00:00,  1.98it/s]\n"
          ]
        }
      ]
    },
    {
      "cell_type": "code",
      "metadata": {
        "id": "HkjNTzAwpizI"
      },
      "source": [
        ""
      ],
      "execution_count": null,
      "outputs": []
    }
  ]
}